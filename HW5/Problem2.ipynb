{
 "cells": [
  {
   "cell_type": "markdown",
   "metadata": {},
   "source": [
    "# Problem 2 b"
   ]
  },
  {
   "cell_type": "code",
   "execution_count": 1,
   "metadata": {
    "collapsed": false
   },
   "outputs": [],
   "source": [
    "from scipy.io import loadmat\n",
    "import numpy as np\n",
    "#import random\n",
    "import datetime\n",
    "hw5data = loadmat('hw5data.mat')"
   ]
  },
  {
   "cell_type": "code",
   "execution_count": 2,
   "metadata": {
    "collapsed": false
   },
   "outputs": [],
   "source": [
    "data = np.array(hw5data['data'],dtype= float)\n",
    "labels = np.array(hw5data['labels'],dtype= int).flatten()\n",
    "data = np.column_stack(((np.ones(len(data))),data))\n",
    "labels = labels.astype(float)"
   ]
  },
  {
   "cell_type": "code",
   "execution_count": 56,
   "metadata": {
    "collapsed": true
   },
   "outputs": [],
   "source": [
    "tdata = np.array(hw5data['testdata'],dtype= float)\n",
    "tlabels = np.array(hw5data['testlabels'],dtype= int).flatten()\n",
    "tdata = np.column_stack(((np.ones(len(tdata))),tdata))\n",
    "tlabels = tlabels.astype(float)"
   ]
  },
  {
   "cell_type": "code",
   "execution_count": 4,
   "metadata": {
    "collapsed": true
   },
   "outputs": [],
   "source": [
    "def grad(inprod,labels,data):\n",
    "    return np.sum(np.multiply( 1/(1+np.exp(-inprod))-labels ,data.T).T,axis=0)/len(labels)"
   ]
  },
  {
   "cell_type": "code",
   "execution_count": 5,
   "metadata": {
    "collapsed": false
   },
   "outputs": [],
   "source": [
    "def objfun(inprod, labels):\n",
    "    return np.sum(np.log(1+np.exp(inprod))-np.multiply(labels,inprod))/len(labels)"
   ]
  },
  {
   "cell_type": "code",
   "execution_count": 6,
   "metadata": {
    "collapsed": false,
    "scrolled": true
   },
   "outputs": [],
   "source": [
    "def grad_LR(data,labels):\n",
    "    if data.shape[0] != len(labels):\n",
    "        raise Exception('invalid input')\n",
    "    else:\n",
    "        n = 0 \n",
    "        obj = 1\n",
    "        b = np.zeros(data.shape[1])       \n",
    "        inprod = np.dot(data,b) #inner product\n",
    "        while obj > 0.50317:\n",
    "            eta = 1\n",
    "            gradi = grad(inprod,labels,data)\n",
    "            inprod1 = np.dot(data,b-eta*gradi)\n",
    "            while objfun(inprod1,labels) > objfun(inprod,labels) - 0.5 * eta * np.dot(gradi,gradi):\n",
    "                eta = eta / 2\n",
    "                inprod1 = np.dot(data,b-eta*gradi)\n",
    "            b = b - eta * gradi\n",
    "            n = n + 1\n",
    "            inprod = np.dot(data,b)\n",
    "            obj = objfun(inprod,labels)\n",
    "        return b"
   ]
  },
  {
   "cell_type": "code",
   "execution_count": 21,
   "metadata": {
    "collapsed": false
   },
   "outputs": [],
   "source": [
    "b = grad_LR(data,labels)"
   ]
  },
  {
   "cell_type": "code",
   "execution_count": 43,
   "metadata": {
    "collapsed": false
   },
   "outputs": [],
   "source": [
    "P = 1/(1 + np.exp(-np.dot(tdata[:1024],b)))"
   ]
  },
  {
   "cell_type": "code",
   "execution_count": 57,
   "metadata": {
    "collapsed": true
   },
   "outputs": [],
   "source": [
    "p = np.zeros(1024)\n",
    "for i in range(len(p)):\n",
    "    p[i] = sum(tlabels[i::int(len(p))])/128"
   ]
  },
  {
   "cell_type": "code",
   "execution_count": 58,
   "metadata": {
    "collapsed": true
   },
   "outputs": [],
   "source": [
    "MAE = sum(abs(P-p))/1024"
   ]
  },
  {
   "cell_type": "code",
   "execution_count": 59,
   "metadata": {
    "collapsed": false
   },
   "outputs": [
    {
     "data": {
      "text/plain": [
       "0.038952699616530986"
      ]
     },
     "execution_count": 59,
     "metadata": {},
     "output_type": "execute_result"
    }
   ],
   "source": [
    "MAE"
   ]
  },
  {
   "cell_type": "code",
   "execution_count": 39,
   "metadata": {
    "collapsed": false
   },
   "outputs": [
    {
     "data": {
      "text/plain": [
       "array([ 0.5234375,  0.4765625,  0.53125  , ...,  0.3828125,  0.515625 ,\n",
       "        0.46875  ])"
      ]
     },
     "execution_count": 39,
     "metadata": {},
     "output_type": "execute_result"
    }
   ],
   "source": [
    "p"
   ]
  },
  {
   "cell_type": "code",
   "execution_count": 44,
   "metadata": {
    "collapsed": false
   },
   "outputs": [
    {
     "data": {
      "text/plain": [
       "array([ 0.76641381,  0.71364991,  0.26700766, ...,  0.43467491,\n",
       "        0.41087434,  0.71467818])"
      ]
     },
     "execution_count": 44,
     "metadata": {},
     "output_type": "execute_result"
    }
   ],
   "source": [
    "P"
   ]
  },
  {
   "cell_type": "code",
   "execution_count": 34,
   "metadata": {
    "collapsed": false
   },
   "outputs": [
    {
     "data": {
      "text/plain": [
       "128.0"
      ]
     },
     "execution_count": 34,
     "metadata": {},
     "output_type": "execute_result"
    }
   ],
   "source": [
    "len(tlabels)/len(p)"
   ]
  },
  {
   "cell_type": "code",
   "execution_count": 55,
   "metadata": {
    "collapsed": false
   },
   "outputs": [
    {
     "data": {
      "text/plain": [
       "128.0"
      ]
     },
     "execution_count": 55,
     "metadata": {},
     "output_type": "execute_result"
    }
   ],
   "source": [
    "len(tdata)/1024"
   ]
  },
  {
   "cell_type": "code",
   "execution_count": null,
   "metadata": {
    "collapsed": true
   },
   "outputs": [],
   "source": []
  }
 ],
 "metadata": {
  "anaconda-cloud": {},
  "kernelspec": {
   "display_name": "Python [Root]",
   "language": "python",
   "name": "Python [Root]"
  },
  "language_info": {
   "codemirror_mode": {
    "name": "ipython",
    "version": 3
   },
   "file_extension": ".py",
   "mimetype": "text/x-python",
   "name": "python",
   "nbconvert_exporter": "python",
   "pygments_lexer": "ipython3",
   "version": "3.5.2"
  }
 },
 "nbformat": 4,
 "nbformat_minor": 0
}
