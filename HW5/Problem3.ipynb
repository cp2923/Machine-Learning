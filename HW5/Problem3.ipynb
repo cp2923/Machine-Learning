{
 "cells": [
  {
   "cell_type": "markdown",
   "metadata": {},
   "source": [
    "# Problem3 b"
   ]
  },
  {
   "cell_type": "code",
   "execution_count": 1,
   "metadata": {
    "collapsed": true
   },
   "outputs": [],
   "source": [
    "from scipy.io import loadmat\n",
    "import numpy as np\n",
    "import datetime\n",
    "hw5data = loadmat('housing.mat')"
   ]
  },
  {
   "cell_type": "code",
   "execution_count": 36,
   "metadata": {
    "collapsed": false
   },
   "outputs": [],
   "source": [
    "X = np.array(hw5data['data'],dtype= float)\n",
    "Y = np.array(hw5data['labels'],dtype= float).flatten()\n",
    "tX = np.array(hw5data['testdata'],dtype= float) #testX\n",
    "tY = np.array(hw5data['testlabels'],dtype= float).flatten()"
   ]
  },
  {
   "cell_type": "code",
   "execution_count": 56,
   "metadata": {
    "collapsed": true
   },
   "outputs": [],
   "source": [
    "def asl(pred, Y):\n",
    "    if len(pred) != len(Y):\n",
    "        raise Exception('invalid input')\n",
    "    else:\n",
    "        return np.mean((pred-Y)**2)"
   ]
  },
  {
   "cell_type": "code",
   "execution_count": 57,
   "metadata": {
    "collapsed": false
   },
   "outputs": [],
   "source": [
    "w_ols = np.dot(np.dot(np.linalg.inv(np.dot(X.T,X)),X.T),Y)\n",
    "pred_ols = np.dot(tX,w_ols)"
   ]
  },
  {
   "cell_type": "code",
   "execution_count": 65,
   "metadata": {
    "collapsed": false
   },
   "outputs": [
    {
     "name": "stdout",
     "output_type": "stream",
     "text": [
      "[[ 1.          1.95208352 -0.46895923 ...,  0.81875584 -0.37002854\n",
      "   0.42594767]\n",
      " [ 1.         -0.58945045 -0.46895923 ...,  0.12254737  0.35088549\n",
      "  -0.32821537]\n",
      " [ 1.          1.77478313 -0.46895923 ...,  0.81875584  0.40566979\n",
      "  -1.34348827]\n",
      " ..., \n",
      " [ 1.         -0.57984208  0.79391129 ..., -0.85214449  0.39705929\n",
      "  -0.17404945]\n",
      " [ 1.         -0.53913295 -0.46895923 ...,  0.35461686  0.45787094\n",
      "   0.2356708 ]\n",
      " [ 1.         -0.09915623 -0.46895923 ..., -1.73400856  0.10710074\n",
      "  -0.72821345]]\n"
     ]
    }
   ],
   "source": [
    "print(X)"
   ]
  },
  {
   "cell_type": "code",
   "execution_count": 26,
   "metadata": {
    "collapsed": false
   },
   "outputs": [],
   "source": [
    "error_ols = asl(pred_ols,tY)"
   ]
  },
  {
   "cell_type": "code",
   "execution_count": 27,
   "metadata": {
    "collapsed": false
   },
   "outputs": [
    {
     "data": {
      "text/plain": [
       "24.406564128418641"
      ]
     },
     "execution_count": 27,
     "metadata": {},
     "output_type": "execute_result"
    }
   ],
   "source": [
    "error_ols"
   ]
  },
  {
   "cell_type": "code",
   "execution_count": 59,
   "metadata": {
    "collapsed": false
   },
   "outputs": [
    {
     "data": {
      "text/plain": [
       "524.76887309119581"
      ]
     },
     "execution_count": 59,
     "metadata": {},
     "output_type": "execute_result"
    }
   ],
   "source": [
    "w_ols = np.dot(np.dot(np.linalg.inv(np.dot(X.T,X)),X.T),Y)\n",
    "pred_ols = np.dot(tX,reg.coef_)\n",
    "error_ols = asl(pred_ols,tY)\n",
    "error_ols"
   ]
  },
  {
   "cell_type": "code",
   "execution_count": 47,
   "metadata": {
    "collapsed": false
   },
   "outputs": [
    {
     "name": "stdout",
     "output_type": "stream",
     "text": [
      "[ 0.          0.          0.          0.          0.          0.\n",
      "  1.55107735  0.          0.          0.          0.         -0.54287349\n",
      "  0.         -3.36749643]\n"
     ]
    }
   ],
   "source": [
    "from sklearn import linear_model\n",
    "clf = linear_model.Lars(n_nonzero_coefs=3)\n",
    "clf.fit(X, Y)\n",
    "print(clf.coef_)"
   ]
  },
  {
   "cell_type": "code",
   "execution_count": 63,
   "metadata": {
    "collapsed": false
   },
   "outputs": [
    {
     "data": {
      "text/plain": [
       "array([[ 0],\n",
       "       [ 1],\n",
       "       [ 2],\n",
       "       [ 3],\n",
       "       [ 4],\n",
       "       [ 5],\n",
       "       [ 7],\n",
       "       [ 8],\n",
       "       [ 9],\n",
       "       [10],\n",
       "       [12]])"
      ]
     },
     "execution_count": 63,
     "metadata": {},
     "output_type": "execute_result"
    }
   ],
   "source": [
    "np.argwhere(clf.coef_ ==0)"
   ]
  },
  {
   "cell_type": "code",
   "execution_count": 50,
   "metadata": {
    "collapsed": false
   },
   "outputs": [
    {
     "name": "stdout",
     "output_type": "stream",
     "text": [
      "535.83649645\n"
     ]
    }
   ],
   "source": [
    "pred_lars = np.dot(tX,clf.coef_)\n",
    "error_lars = asl(pred_lars,tY)\n",
    "print(error_lars)"
   ]
  },
  {
   "cell_type": "code",
   "execution_count": 42,
   "metadata": {
    "collapsed": false
   },
   "outputs": [
    {
     "name": "stdout",
     "output_type": "stream",
     "text": [
      "35.6791404934\n"
     ]
    }
   ],
   "source": [
    "pred_lars = clf.predict(tX)\n",
    "error_lars = asl(pred_lars,tY)\n",
    "print(error_lars)"
   ]
  },
  {
   "cell_type": "code",
   "execution_count": 46,
   "metadata": {
    "collapsed": false
   },
   "outputs": [
    {
     "data": {
      "text/plain": [
       "{'copy_X': True,\n",
       " 'eps': 2.2204460492503131e-16,\n",
       " 'fit_intercept': True,\n",
       " 'fit_path': True,\n",
       " 'n_nonzero_coefs': 3,\n",
       " 'normalize': True,\n",
       " 'positive': False,\n",
       " 'precompute': 'auto',\n",
       " 'verbose': False}"
      ]
     },
     "execution_count": 46,
     "metadata": {},
     "output_type": "execute_result"
    }
   ],
   "source": [
    "clf.get_params()"
   ]
  },
  {
   "cell_type": "code",
   "execution_count": null,
   "metadata": {
    "collapsed": true
   },
   "outputs": [],
   "source": []
  }
 ],
 "metadata": {
  "anaconda-cloud": {},
  "kernelspec": {
   "display_name": "Python [Root]",
   "language": "python",
   "name": "Python [Root]"
  },
  "language_info": {
   "codemirror_mode": {
    "name": "ipython",
    "version": 3
   },
   "file_extension": ".py",
   "mimetype": "text/x-python",
   "name": "python",
   "nbconvert_exporter": "python",
   "pygments_lexer": "ipython3",
   "version": "3.5.2"
  }
 },
 "nbformat": 4,
 "nbformat_minor": 0
}
