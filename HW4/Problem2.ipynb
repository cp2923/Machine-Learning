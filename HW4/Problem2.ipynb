{
 "cells": [
  {
   "cell_type": "code",
   "execution_count": 1,
   "metadata": {
    "collapsed": false
   },
   "outputs": [],
   "source": [
    "#(a)\n",
    "from scipy.io import loadmat\n",
    "import numpy as np\n",
    "#import random\n",
    "import datetime\n",
    "hw4data = loadmat('hw4data.mat')"
   ]
  },
  {
   "cell_type": "code",
   "execution_count": 2,
   "metadata": {
    "collapsed": false
   },
   "outputs": [],
   "source": [
    "data = np.array(hw4data['data'],dtype= float)\n",
    "labels = np.array(hw4data['labels'],dtype= int).flatten()\n",
    "data = np.column_stack(((np.ones(len(data))),data))\n",
    "labels = labels.astype(float)"
   ]
  },
  {
   "cell_type": "code",
   "execution_count": 4,
   "metadata": {
    "collapsed": true
   },
   "outputs": [],
   "source": [
    "def grad(inprod,labels,data):\n",
    "    return np.sum(np.multiply( 1/(1+np.exp(-inprod))-labels ,data.T).T,axis=0)/len(labels)"
   ]
  },
  {
   "cell_type": "code",
   "execution_count": 5,
   "metadata": {
    "collapsed": false
   },
   "outputs": [],
   "source": [
    "def objfun(inprod, labels):\n",
    "    return np.sum(np.log(1+np.exp(inprod))-np.multiply(labels,inprod))/len(labels)"
   ]
  },
  {
   "cell_type": "code",
   "execution_count": 6,
   "metadata": {
    "collapsed": false,
    "scrolled": true
   },
   "outputs": [],
   "source": [
    "def grad_LR(data,labels):\n",
    "    if data.shape[0] != len(labels):\n",
    "        raise Exception('invalid input')\n",
    "    else:\n",
    "        n = 0 \n",
    "        obj = 1\n",
    "        b = np.zeros(data.shape[1])\n",
    "        while obj > 0.65064:\n",
    "            eta = 1\n",
    "            inprod = np.dot(data,b) #inner product\n",
    "            gradi = grad(inprod,labels,data)\n",
    "            inprod1 = np.dot(data,b-eta*gradi)\n",
    "            while objfun(inprod1,labels) > objfun(inprod,labels) - 0.5 * eta * np.dot(gradi,gradi):\n",
    "                eta = eta / 2\n",
    "                inprod1 = np.dot(data,b-eta*gradi)\n",
    "            b = b - eta * gradi\n",
    "            n = n + 1\n",
    "            inprod = np.dot(data,b)\n",
    "            obj = objfun(inprod,labels)\n",
    "        return n"
   ]
  },
  {
   "cell_type": "code",
   "execution_count": 6,
   "metadata": {
    "collapsed": false
   },
   "outputs": [
    {
     "data": {
      "text/plain": [
       "4658"
      ]
     },
     "execution_count": 6,
     "metadata": {},
     "output_type": "execute_result"
    }
   ],
   "source": [
    "print( grad_LR(data,labels))"
   ]
  },
  {
   "cell_type": "code",
   "execution_count": 51,
   "metadata": {
    "collapsed": false
   },
   "outputs": [
    {
     "data": {
      "image/png": "[encoded data removed]",
      "text/plain": [
       "<matplotlib.figure.Figure at 0x10df06470>"
      ]
     },
     "metadata": {},
     "output_type": "display_data"
    },
    {
     "data": {
      "image/png": "[encoded data removed]",
      "text/plain": [
       "<matplotlib.figure.Figure at 0x10e6b5c50>"
      ]
     },
     "metadata": {},
     "output_type": "display_data"
    },
    {
     "data": {
      "image/png": "[encoded data removed]",
      "text/plain": [
       "<matplotlib.figure.Figure at 0x10ebd0e80>"
      ]
     },
     "metadata": {},
     "output_type": "display_data"
    }
   ],
   "source": [
    "#(b)\n",
    "fea = np.array(hw4data['data'],dtype= float).T #feature\n",
    "import matplotlib.pyplot as plt\n",
    "for i in range(3):\n",
    "    plt.hist(fea[i])\n",
    "    plt.show()"
   ]
  },
  {
   "cell_type": "code",
   "execution_count": 7,
   "metadata": {
    "collapsed": false
   },
   "outputs": [
    {
     "name": "stdout",
     "output_type": "stream",
     "text": [
      "377\n"
     ]
    }
   ],
   "source": [
    "M = np.diag([1,1/20,1,1/20])\n",
    "data_trans = np.dot(data,M)\n",
    "print( grad_LR(data_trans,labels))"
   ]
  },
  {
   "cell_type": "code",
   "execution_count": 14,
   "metadata": {
    "collapsed": false
   },
   "outputs": [],
   "source": [
    "#(c)\n",
    "\n",
    "def errate(teda, tela, b):\n",
    "    if len(teda) == len(tela):\n",
    "        M = np.dot(teda,b)\n",
    "        M[M<=0]=0\n",
    "        M[M>0]=1\n",
    "        return np.count_nonzero(M - tela.astype(int))/float(len(tela))\n",
    "    else:\n",
    "        raise Exception('invalid input')"
   ]
  },
  {
   "cell_type": "code",
   "execution_count": 15,
   "metadata": {
    "collapsed": true
   },
   "outputs": [],
   "source": [
    "def grad_LR_d(data,labels,teda,tela):\n",
    "    if data.shape[0] != len(labels):\n",
    "        raise Exception('invalid input')\n",
    "    else:\n",
    "        n = 0 \n",
    "        obj = 1\n",
    "        b = np.zeros(data.shape[1])\n",
    "        i = 2\n",
    "        while True:\n",
    "            eta = 1\n",
    "            inprod = np.dot(data,b) #inner product\n",
    "            gradi = grad(inprod,labels,data)\n",
    "            inprod1 = np.dot(data,b-eta*gradi)\n",
    "            while objfun(inprod1,labels) > objfun(inprod,labels) - 0.5 * eta * np.dot(gradi,gradi):\n",
    "                eta = eta / 2\n",
    "                inprod1 = np.dot(data,b-eta*gradi)\n",
    "            b = b - eta * gradi\n",
    "            n = n + 1\n",
    "            inprod = np.dot(data,b)\n",
    "            obj = objfun(inprod,labels)\n",
    "            if n == i:\n",
    "                if i == 2:\n",
    "                    error_best = errate(teda, tela, b)\n",
    "                i = i * 2\n",
    "                error_new = errate(teda, tela, b)\n",
    "                if error_new / error_best > 0.99 and n >= 32:\n",
    "                    break\n",
    "                if error_best > error_new:\n",
    "                    error_best = error_new\n",
    "        return n, obj, error_new"
   ]
  },
  {
   "cell_type": "code",
   "execution_count": 19,
   "metadata": {
    "collapsed": true
   },
   "outputs": [],
   "source": [
    "import math\n",
    "hold = math.floor(len(data)*0.8)\n",
    "trda = data[:hold] #training data\n",
    "trla = labels[:hold] #training labels\n",
    "teda = data[hold:]\n",
    "tela = labels[hold:]"
   ]
  },
  {
   "cell_type": "code",
   "execution_count": 20,
   "metadata": {
    "collapsed": false
   },
   "outputs": [
    {
     "name": "stdout",
     "output_type": "stream",
     "text": [
      "(512, 0.65506962345974018, 0.3829268292682927)\n"
     ]
    }
   ],
   "source": [
    "print(grad_LR_d(trda,trla,teda,tela))"
   ]
  },
  {
   "cell_type": "code",
   "execution_count": 16,
   "metadata": {
    "collapsed": false
   },
   "outputs": [],
   "source": [
    "#transformed\n",
    "trda_tr = data_trans[:hold] #training data\n",
    "trla = labels[:hold] #training labels\n",
    "teda_tr = data_trans[hold:]\n",
    "tela = labels[hold:]"
   ]
  },
  {
   "cell_type": "code",
   "execution_count": 18,
   "metadata": {
    "collapsed": false
   },
   "outputs": [
    {
     "name": "stdout",
     "output_type": "stream",
     "text": [
      "(32, 0.66476485897084503, 0.37926829268292683)\n"
     ]
    }
   ],
   "source": [
    "print(grad_LR_d(trda_tr,trla,teda_tr,tela))"
   ]
  },
  {
   "cell_type": "code",
   "execution_count": null,
   "metadata": {
    "collapsed": true
   },
   "outputs": [],
   "source": []
  }
 ],
 "metadata": {
  "anaconda-cloud": {},
  "kernelspec": {
   "display_name": "Python [conda root]",
   "language": "python",
   "name": "conda-root-py"
  },
  "language_info": {
   "codemirror_mode": {
    "name": "ipython",
    "version": 2
   },
   "file_extension": ".py",
   "mimetype": "text/x-python",
   "name": "python",
   "nbconvert_exporter": "python",
   "pygments_lexer": "ipython2",
   "version": "2.7.13"
  }
 },
 "nbformat": 4,
 "nbformat_minor": 0
}
