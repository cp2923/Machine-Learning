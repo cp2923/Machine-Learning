{
 "cells": [
  {
   "cell_type": "code",
   "execution_count": null,
   "metadata": {
    "collapsed": true
   },
   "outputs": [],
   "source": [
    "from scipy.io import loadmat\n",
    "import numpy as np\n",
    "import random\n",
    "import datetime\n",
    "ocr = loadmat('/Users/chang/Desktop/ocr.mat')"
   ]
  },
  {
   "cell_type": "code",
   "execution_count": null,
   "metadata": {
    "collapsed": true
   },
   "outputs": [],
   "source": [
    "data = np.array(ocr['data'],dtype= float)\n",
    "labels = np.array(ocr['labels'],dtype= int)\n",
    "testdata = np.array(ocr['testdata'],dtype= float)\n",
    "testlabels = np.array(ocr['testlabels'],dtype= int)"
   ]
  },
  {
   "cell_type": "code",
   "execution_count": null,
   "metadata": {
    "collapsed": true
   },
   "outputs": [],
   "source": [
    "def distance(data,testdata):\n",
    "    if len(data[0]) == len(testdata[0]) and data.shape[0] != 1:\n",
    "        M1 = np.tile(np.transpose([(data**2).sum(axis=1)]),(1,testdata.shape[0]))\n",
    "        M2 = np.tile((testdata**2).sum(axis=1),(data.shape[0],1))\n",
    "        M3 = 2*np.dot(data,testdata.T)\n",
    "        return M1+M2-M3\n",
    "    else:\n",
    "        raise Exception('invalid input')"
   ]
  },
  {
   "cell_type": "code",
   "execution_count": null,
   "metadata": {
    "collapsed": true
   },
   "outputs": [],
   "source": [
    "def oneNN(D,labels):\n",
    "    return labels[np.array(np.argmin(D, axis=0),dtype= int)]"
   ]
  },
  {
   "cell_type": "code",
   "execution_count": null,
   "metadata": {
    "collapsed": true
   },
   "outputs": [],
   "source": [
    "def singlerate(preds,testlabels):\n",
    "    if len(preds)==len(testlabels):\n",
    "        return np.count_nonzero(preds-testlabels)/float(len(preds))\n",
    "    \n",
    "    else:\n",
    "        raise Exception('invalid input')"
   ]
  },
  {
   "cell_type": "code",
   "execution_count": null,
   "metadata": {
    "collapsed": true
   },
   "outputs": [],
   "source": [
    "def pselect(data,labels):\n",
    "    if (len(data)>20000) and np.mod(len(data),10) == 0:\n",
    "        numrow = len(data)/10\n",
    "        dataf = np.zeros((10,numrow,len(data[0])))\n",
    "        for i in range(10):\n",
    "            dataf[i]=data[i*numrow:(i+1)*numrow]\n",
    "        D1 = np.zeros((10,10,numrow,numrow))\n",
    "        D = np.zeros((len(data),len(data)))\n",
    "        for i in range(10):\n",
    "            for j in range(10):\n",
    "                D[i*numrow:(i+1)*numrow,j*numrow:(j+1)*numrow] = distance(dataf[i],dataf[j])\n",
    "    else:\n",
    "        D = distance(data,data)\n",
    "    sel = np.array(range(len(data)))\n",
    "    seq1 = (np.tile(sel,(len(data)/200,1))).T\n",
    "    seq = np.argsort(D, axis=1)[:,1:(1+len(data)/200)]\n",
    "    nonze = np.resize(labels[seq],(len(data),len(data)/200))-np.resize(labels[seq1],(len(data),len(data)/200))\n",
    "    return nonze"
   ]
  },
  {
   "cell_type": "code",
   "execution_count": null,
   "metadata": {
    "collapsed": true
   },
   "outputs": [],
   "source": [
    "nonze = pselect(data,labels)\n",
    "prosel = np.array(range(len(data)))\n",
    "prosel = prosel[(nonze != 0).sum(1)>0]\n",
    "len(prosel)"
   ]
  },
  {
   "cell_type": "code",
   "execution_count": null,
   "metadata": {
    "collapsed": true
   },
   "outputs": [],
   "source": [
    "n = [1000, 2000, 4000, 8000]\n",
    "def erorrate(data, labels, testdata, testlabels, n):\n",
    "    errate = np.zeros((len(n), 10))\n",
    "    for i in range(len(n)):\n",
    "        for j in range(10):\n",
    "            sel = random.sample(xrange(len(data)),n[i])\n",
    "            D = distance(data[sel],testdata)\n",
    "            testpred = oneNN(D, labels[sel])\n",
    "            errate[i][j] = singlerate(testpred,testlabels)\n",
    "    return errate"
   ]
  },
  {
   "cell_type": "code",
   "execution_count": null,
   "metadata": {
    "collapsed": true
   },
   "outputs": [],
   "source": [
    "errate = erorrate(data[prosel], labels[prosel], testdata, testlabels, n)\n",
    "np.savetxt(\"temp.csv\", errate, delimiter=\",\")"
   ]
  }
 ],
 "metadata": {
  "anaconda-cloud": {},
  "kernelspec": {
   "display_name": "Python [py27]",
   "language": "python",
   "name": "Python [py27]"
  },
  "language_info": {
   "codemirror_mode": {
    "name": "ipython",
    "version": 2
   },
   "file_extension": ".py",
   "mimetype": "text/x-python",
   "name": "python",
   "nbconvert_exporter": "python",
   "pygments_lexer": "ipython2",
   "version": "2.7.12"
  }
 },
 "nbformat": 4,
 "nbformat_minor": 0
}
