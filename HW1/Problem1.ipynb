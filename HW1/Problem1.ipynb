{
 "cells": [
  {
   "cell_type": "code",
   "execution_count": 3,
   "metadata": {
    "collapsed": false
   },
   "outputs": [],
   "source": [
    "from scipy.io import loadmat\n",
    "import numpy as np\n",
    "import random\n",
    "ocr = loadmat('ocr.mat')"
   ]
  },
  {
   "cell_type": "code",
   "execution_count": 4,
   "metadata": {
    "collapsed": false
   },
   "outputs": [],
   "source": [
    "data = np.array(ocr['data'],dtype= float)\n",
    "labels = np.array(ocr['labels'],dtype= int)\n",
    "testdata = np.array(ocr['testdata'],dtype= float)\n",
    "testlabels = np.array(ocr['testlabels'],dtype= int)"
   ]
  },
  {
   "cell_type": "code",
   "execution_count": 5,
   "metadata": {
    "collapsed": false
   },
   "outputs": [],
   "source": [
    "def distance(data,testdata):\n",
    "    if len(data[0]) == len(testdata[0]) and data.shape[0] != 1:\n",
    "        M1 = np.tile(np.transpose([(data**2).sum(axis=1)]),(1,testdata.shape[0]))\n",
    "        M2 = np.tile((testdata**2).sum(axis=1),(data.shape[0],1))\n",
    "        M3 = 2*np.dot(data,testdata.T)\n",
    "        return M1+M2-M3\n",
    "    else:\n",
    "        raise Exception('invalid input')"
   ]
  },
  {
   "cell_type": "code",
   "execution_count": 6,
   "metadata": {
    "collapsed": false
   },
   "outputs": [],
   "source": [
    "def oneNN(D,labels):\n",
    "    return labels[np.array(np.argmin(D, axis=0),dtype= int)]"
   ]
  },
  {
   "cell_type": "code",
   "execution_count": 7,
   "metadata": {
    "collapsed": false
   },
   "outputs": [],
   "source": [
    "def singlerate(preds,testlabels):\n",
    "    if len(preds)==len(testlabels):\n",
    "        return np.count_nonzero(preds-testlabels)/float(len(preds))\n",
    "    \n",
    "    else:\n",
    "        raise Exception('invalid input')"
   ]
  },
  {
   "cell_type": "code",
   "execution_count": 8,
   "metadata": {
    "collapsed": true
   },
   "outputs": [],
   "source": [
    "n = [1000, 2000, 4000, 8000]\n",
    "def erorrate(data, labels, testdata, testlabels, n):\n",
    "    errate = np.zeros((len(n), 10))\n",
    "    for i in range(len(n)):\n",
    "        for j in range(10):\n",
    "            sel = random.sample(xrange(60000),n[i])\n",
    "            D = distance(data[sel],testdata)\n",
    "            testpred = oneNN(D, labels[sel])\n",
    "            errate[i][j] = singlerate(testpred,testlabels)\n",
    "    return errate"
   ]
  },
  {
   "cell_type": "code",
   "execution_count": 9,
   "metadata": {
    "collapsed": false
   },
   "outputs": [
    {
     "name": "stdout",
     "output_type": "stream",
     "text": [
      "2016-10-02 14:24:52.172743\n",
      "2016-10-02 14:27:12.562536\n"
     ]
    }
   ],
   "source": [
    "import datetime\n",
    "print datetime.datetime.now()\n",
    "errate = erorrate(data, labels, testdata, testlabels, n)\n",
    "print datetime.datetime.now()"
   ]
  },
  {
   "cell_type": "code",
   "execution_count": 17,
   "metadata": {
    "collapsed": false
   },
   "outputs": [],
   "source": [
    "np.savetxt(\"errate.csv\", errate, delimiter=\",\")"
   ]
  },
  {
   "cell_type": "code",
   "execution_count": 10,
   "metadata": {
    "collapsed": false
   },
   "outputs": [
    {
     "data": {
      "text/plain": [
       "array([ 0.11502,  0.08985,  0.06848,  0.05491])"
      ]
     },
     "execution_count": 10,
     "metadata": {},
     "output_type": "execute_result"
    }
   ],
   "source": [
    "np.mean(errate,axis = 1)\n"
   ]
  },
  {
   "cell_type": "code",
   "execution_count": null,
   "metadata": {
    "collapsed": true
   },
   "outputs": [],
   "source": []
  }
 ],
 "metadata": {
  "anaconda-cloud": {},
  "kernelspec": {
   "display_name": "Python [conda root]",
   "language": "python",
   "name": "conda-root-py"
  },
  "language_info": {
   "codemirror_mode": {
    "name": "ipython",
    "version": 2
   },
   "file_extension": ".py",
   "mimetype": "text/x-python",
   "name": "python",
   "nbconvert_exporter": "python",
   "pygments_lexer": "ipython2",
   "version": "2.7.13"
  }
 },
 "nbformat": 4,
 "nbformat_minor": 0
}
