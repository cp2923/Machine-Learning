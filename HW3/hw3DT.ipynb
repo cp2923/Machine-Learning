{
 "cells": [
  {
   "cell_type": "code",
   "execution_count": 14,
   "metadata": {
    "collapsed": true
   },
   "outputs": [],
   "source": [
    "import pandas as pd\n",
    "import numpy as np\n",
    "import random\n",
    "from scipy.sparse import diags\n",
    "from scipy.sparse import csr_matrix\n",
    "from sklearn.feature_extraction.text import CountVectorizer\n",
    "from sklearn.model_selection import KFold\n",
    "from sklearn import tree\n",
    "from sklearn.feature_extraction.text import TfidfVectorizer\n",
    "import datetime\n",
    "mtrain = pd.read_csv(\"reviews_tr.csv\", header=0, delimiter=\",\")"
   ]
  },
  {
   "cell_type": "code",
   "execution_count": 6,
   "metadata": {
    "collapsed": false
   },
   "outputs": [],
   "source": [
    "train = mtrain[0:20000]\n",
    "data = train['text']\n",
    "label = train['label']"
   ]
  },
  {
   "cell_type": "code",
   "execution_count": 3,
   "metadata": {
    "collapsed": true
   },
   "outputs": [],
   "source": [
    "def cv43(data,label):\n",
    "    kf = KFold(n_splits=5)\n",
    "    error = []\n",
    "    for train, test in kf.split(label):\n",
    "        vectorizer = TfidfVectorizer(min_df=1,token_pattern=r'\\b\\w+\\b',smooth_idf=True)\n",
    "        xtr = vectorizer.fit_transform(data[train]).astype(float)\n",
    "        xte = vectorizer.transform(data[test]).astype(float)\n",
    "        clf = tree.DecisionTreeClassifier()\n",
    "        clf.fit(xtr, label[train])\n",
    "        preds = clf.predict(xte)\n",
    "        error.append(np.count_nonzero(preds-label[test])/float(len(preds)))\n",
    "        print(error)\n",
    "    return error"
   ]
  },
  {
   "cell_type": "code",
   "execution_count": 4,
   "metadata": {
    "collapsed": false
   },
   "outputs": [
    {
     "name": "stdout",
     "output_type": "stream",
     "text": [
      "2016-10-12 19:19:24.845000\n",
      "[0.24975]\n",
      "[0.24975, 0.2775]\n",
      "[0.24975, 0.2775, 0.271]\n",
      "[0.24975, 0.2775, 0.271, 0.26425]\n",
      "[0.24975, 0.2775, 0.271, 0.26425, 0.25525]\n",
      "2016-10-12 19:20:35.829000\n"
     ]
    }
   ],
   "source": [
    "print(datetime.datetime.now())\n",
    "error43 = cv43(data,label)\n",
    "print(datetime.datetime.now())"
   ]
  },
  {
   "cell_type": "code",
   "execution_count": 3,
   "metadata": {
    "collapsed": true
   },
   "outputs": [],
   "source": [
    "def cv13(data,label):\n",
    "    kf = KFold(n_splits=5)\n",
    "    error = []\n",
    "    for train, test in kf.split(label):\n",
    "        vectorizer = CountVectorizer(min_df=1,token_pattern=r'\\b\\w+\\b')\n",
    "        xtr = vectorizer.fit_transform(data[train]).astype(float)\n",
    "        xte = vectorizer.transform(data[test]).astype(float)\n",
    "        clf = tree.DecisionTreeClassifier()\n",
    "        clf.fit(xtr, label[train])\n",
    "        preds = clf.predict(xte)\n",
    "        error.append(np.count_nonzero(preds-label[test])/float(len(preds)))\n",
    "        print(error)\n",
    "    return error"
   ]
  },
  {
   "cell_type": "code",
   "execution_count": 4,
   "metadata": {
    "collapsed": false
   },
   "outputs": [
    {
     "name": "stdout",
     "output_type": "stream",
     "text": [
      "2016-10-12 00:38:12.916000\n",
      "[0.23125]\n",
      "[0.23125, 0.232775]\n",
      "[0.23125, 0.232775, 0.23115]\n",
      "[0.23125, 0.232775, 0.23115, 0.23455]\n",
      "[0.23125, 0.232775, 0.23115, 0.23455, 0.231875]\n",
      "2016-10-12 04:35:57.860000\n"
     ]
    }
   ],
   "source": [
    "print(datetime.datetime.now())\n",
    "error13 = cv13(data,label)\n",
    "print(datetime.datetime.now())"
   ]
  },
  {
   "cell_type": "code",
   "execution_count": 15,
   "metadata": {
    "collapsed": true
   },
   "outputs": [],
   "source": [
    "def tfidf(data,testdata):\n",
    "    vectorizer = CountVectorizer(min_df=1,token_pattern=r'\\b\\w+\\b')\n",
    "    tr = vectorizer.fit_transform(data).astype(float)\n",
    "    nd = tr.shape[0] #number of documents\n",
    "    dw = np.array((tr !=0 ).sum(axis = 0))[0] #number of doc contain w\n",
    "    idf = diags(np.log10(nd)-np.log10(dw))\n",
    "    idftr = tr.dot(idf)\n",
    "    te = vectorizer.transform(testdata)\n",
    "    idfte = te.dot(idf)\n",
    "    return idftr, idfte"
   ]
  },
  {
   "cell_type": "code",
   "execution_count": 16,
   "metadata": {
    "collapsed": true
   },
   "outputs": [],
   "source": [
    "def cv23(data,label):\n",
    "    kf = KFold(n_splits=5)\n",
    "    error = []\n",
    "    for train, test in kf.split(label):\n",
    "        xtr, xte = tfidf(data[train],data[test])\n",
    "        clf = tree.DecisionTreeClassifier()\n",
    "        clf.fit(xtr, label[train])\n",
    "        preds = clf.predict(xte)\n",
    "        error.append(np.count_nonzero(preds-label[test])/float(len(preds)))\n",
    "        print(error)\n",
    "    return error"
   ]
  },
  {
   "cell_type": "code",
   "execution_count": 17,
   "metadata": {
    "collapsed": false
   },
   "outputs": [
    {
     "name": "stdout",
     "output_type": "stream",
     "text": [
      "2016-10-12 19:33:11.338000\n",
      "[0.2435]\n",
      "[0.2435, 0.26875]\n",
      "[0.2435, 0.26875, 0.253]\n",
      "[0.2435, 0.26875, 0.253, 0.2435]\n",
      "[0.2435, 0.26875, 0.253, 0.2435, 0.26675]\n",
      "2016-10-12 19:34:15.477000\n"
     ]
    }
   ],
   "source": [
    "print(datetime.datetime.now())\n",
    "error23 = cv23(data,label)\n",
    "print(datetime.datetime.now())"
   ]
  },
  {
   "cell_type": "code",
   "execution_count": 18,
   "metadata": {
    "collapsed": true
   },
   "outputs": [],
   "source": [
    "def cv33(data,label):\n",
    "    kf = KFold(n_splits=5)\n",
    "    error = []\n",
    "    for train, test in kf.split(label):\n",
    "        vectorizer = CountVectorizer(ngram_range=(2, 2),min_df=1,token_pattern=r'\\b\\w+\\b')\n",
    "        xtr = vectorizer.fit_transform(data[train]).astype(float)\n",
    "        xte = vectorizer.transform(data[test]).astype(float)\n",
    "        clf = tree.DecisionTreeClassifier()\n",
    "        clf.fit(xtr, label[train])\n",
    "        preds = clf.predict(xte)\n",
    "        error.append(np.count_nonzero(preds-label[test])/float(len(preds)))\n",
    "        print(error)\n",
    "    return error"
   ]
  },
  {
   "cell_type": "code",
   "execution_count": 19,
   "metadata": {
    "collapsed": false
   },
   "outputs": [
    {
     "name": "stdout",
     "output_type": "stream",
     "text": [
      "2016-10-12 19:36:11.468000\n",
      "[0.254]\n",
      "[0.254, 0.2715]\n",
      "[0.254, 0.2715, 0.26275]\n",
      "[0.254, 0.2715, 0.26275, 0.2695]\n",
      "[0.254, 0.2715, 0.26275, 0.2695, 0.26]\n",
      "2016-10-12 19:42:54.763000\n"
     ]
    }
   ],
   "source": [
    "print(datetime.datetime.now())\n",
    "error33 = cv33(data,label)\n",
    "print(datetime.datetime.now())"
   ]
  }
 ],
 "metadata": {
  "anaconda-cloud": {},
  "kernelspec": {
   "display_name": "Python [py27]",
   "language": "python",
   "name": "Python [py27]"
  },
  "language_info": {
   "codemirror_mode": {
    "name": "ipython",
    "version": 2
   },
   "file_extension": ".py",
   "mimetype": "text/x-python",
   "name": "python",
   "nbconvert_exporter": "python",
   "pygments_lexer": "ipython2",
   "version": "2.7.12"
  }
 },
 "nbformat": 4,
 "nbformat_minor": 0
}
