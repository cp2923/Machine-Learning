{
 "cells": [
  {
   "cell_type": "code",
   "execution_count": 5,
   "metadata": {
    "collapsed": false
   },
   "outputs": [],
   "source": [
    "import pandas as pd\n",
    "import numpy as np\n",
    "import random\n",
    "from tqdm import tqdm\n",
    "from sklearn.feature_extraction.text import CountVectorizer\n",
    "import datetime\n",
    "train = pd.read_csv(\"reviews_tr.csv\", header=0, delimiter=\",\")\n",
    "test = pd.read_csv(\"reviews_te.csv\", header=0, delimiter=\",\")"
   ]
  },
  {
   "cell_type": "code",
   "execution_count": 6,
   "metadata": {
    "collapsed": false
   },
   "outputs": [
    {
     "name": "stderr",
     "output_type": "stream",
     "text": [
      "/anaconda/envs/py27/lib/python2.7/site-packages/ipykernel/__main__.py:7: SettingWithCopyWarning: \n",
      "A value is trying to be set on a copy of a slice from a DataFrame\n",
      "\n",
      "See the caveats in the documentation: http://pandas.pydata.org/pandas-docs/stable/indexing.html#indexing-view-versus-copy\n"
     ]
    }
   ],
   "source": [
    "train = train[0:200000]\n",
    "data = train['text']\n",
    "label = train['label']\n",
    "label[label <= 0] = -1 # for convenience\n",
    "testdata = test['text']\n",
    "testlabel = test['label']\n",
    "testlabel[testlabel <= 0] = -1 # for convenience"
   ]
  },
  {
   "cell_type": "code",
   "execution_count": 9,
   "metadata": {
    "collapsed": false
   },
   "outputs": [],
   "source": [
    "#Average perceptron and unigram\n",
    "def AP(x, y):\n",
    "    w = np.zeros(x.shape[1])\n",
    "    b = 0\n",
    "    sel = random.sample(xrange(len(y)),len(y))\n",
    "    for i in tqdm(sel):\n",
    "        if y[i]*(x[i].dot(w.T)+b) <= 0:\n",
    "            w = w + y[i]*x[i]\n",
    "            b = b + y[i]\n",
    "\n",
    "    sel = random.sample(xrange(len(y)),len(y))\n",
    "    sum1 = w\n",
    "    sum2 = b\n",
    "    c = 1\n",
    "    for i in tqdm(sel):\n",
    "        if y[i]*(x[i].dot(w.T)+b) <= 0:\n",
    "            w = w + y[i]*x[i]\n",
    "            b = b + y[i]\n",
    "        sum1 = sum1 + w  \n",
    "        sum2 = sum2 + b\n",
    "        c = c + 1\n",
    "    return sum1/c, sum2/c"
   ]
  },
  {
   "cell_type": "code",
   "execution_count": 10,
   "metadata": {
    "collapsed": false
   },
   "outputs": [
    {
     "name": "stderr",
     "output_type": "stream",
     "text": [
      "100%|██████████| 200000/200000 [01:08<00:00, 2935.59it/s]\n",
      "100%|██████████| 200000/200000 [01:33<00:00, 2132.10it/s]\n"
     ]
    },
    {
     "data": {
      "text/plain": [
       "0.1032"
      ]
     },
     "execution_count": 10,
     "metadata": {},
     "output_type": "execute_result"
    }
   ],
   "source": [
    "vectorizer = CountVectorizer(min_df=1,token_pattern=r'\\b\\w+\\b')\n",
    "xtr = vectorizer.fit_transform(data).astype(float)\n",
    "w,b = AP(xtr,np.array(label))\n",
    "preds = xtr.dot(w.A1)+b\n",
    "preds[preds > 0] = 1\n",
    "preds[preds <= 0] = -1\n",
    "trerror = np.count_nonzero(preds-label)/float(len(preds))\n",
    "trerror"
   ]
  },
  {
   "cell_type": "code",
   "execution_count": 11,
   "metadata": {
    "collapsed": true
   },
   "outputs": [],
   "source": [
    "xte = vectorizer.transform(testdata).astype(float)\n",
    "preds = xte.dot(w.A1)+b\n",
    "preds[preds > 0] = 1\n",
    "preds[preds <= 0] = -1\n",
    "teerror = np.count_nonzero(preds-testlabel)/float(len(preds))"
   ]
  },
  {
   "cell_type": "code",
   "execution_count": 12,
   "metadata": {
    "collapsed": false
   },
   "outputs": [
    {
     "data": {
      "text/plain": [
       "0.11128882113694154"
      ]
     },
     "execution_count": 12,
     "metadata": {},
     "output_type": "execute_result"
    }
   ],
   "source": [
    "teerror"
   ]
  },
  {
   "cell_type": "code",
   "execution_count": null,
   "metadata": {
    "collapsed": true
   },
   "outputs": [],
   "source": []
  },
  {
   "cell_type": "code",
   "execution_count": null,
   "metadata": {
    "collapsed": true
   },
   "outputs": [],
   "source": []
  }
 ],
 "metadata": {
  "anaconda-cloud": {},
  "kernelspec": {
   "display_name": "Python [py27]",
   "language": "python",
   "name": "Python [py27]"
  },
  "language_info": {
   "codemirror_mode": {
    "name": "ipython",
    "version": 2
   },
   "file_extension": ".py",
   "mimetype": "text/x-python",
   "name": "python",
   "nbconvert_exporter": "python",
   "pygments_lexer": "ipython2",
   "version": "2.7.12"
  }
 },
 "nbformat": 4,
 "nbformat_minor": 1
}
