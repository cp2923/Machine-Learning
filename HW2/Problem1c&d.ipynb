{
 "cells": [
  {
   "cell_type": "markdown",
   "metadata": {},
   "source": [
    "# Problem c"
   ]
  },
  {
   "cell_type": "code",
   "execution_count": 3,
   "metadata": {
    "collapsed": false
   },
   "outputs": [],
   "source": [
    "from scipy.io import loadmat\n",
    "import numpy as np\n",
    "import random\n",
    "news = loadmat('news.mat')"
   ]
  },
  {
   "cell_type": "code",
   "execution_count": 4,
   "metadata": {
    "collapsed": false
   },
   "outputs": [],
   "source": [
    "data = news['data'].toarray()\n",
    "labels = news['labels'].flatten()\n",
    "testdata = news['testdata'].toarray()\n",
    "testlabels = news['testlabels'].flatten()"
   ]
  },
  {
   "cell_type": "code",
   "execution_count": 5,
   "metadata": {
    "collapsed": false
   },
   "outputs": [],
   "source": [
    "ind = np.array(range(len(labels)))\n",
    "nseq1 = ind[np.logical_or(labels ==1, np.logical_or(labels == 16, labels == 20))]\n",
    "pseq2 = ind[np.logical_or(labels ==17, np.logical_or(labels == 18, labels == 19))]\n",
    "labels = np.append(np.array([0]*nseq1),1 + np.array([0]*pseq2))\n",
    "data = np.append(data[nseq1],data[pseq2], axis=0)\n",
    "ind = np.array(range(len(testlabels)))\n",
    "nseq1 = ind[np.logical_or(testlabels ==1, np.logical_or(testlabels == 16, testlabels == 20))]\n",
    "pseq2 = ind[np.logical_or(testlabels ==17, np.logical_or(testlabels == 18, testlabels == 19))]\n",
    "testlabels = np.append(np.array([0]*nseq1),1 + np.array([0]*pseq2))\n",
    "testdata = np.append(testdata[nseq1],testdata[pseq2], axis=0)"
   ]
  },
  {
   "cell_type": "code",
   "execution_count": 6,
   "metadata": {
    "collapsed": false
   },
   "outputs": [],
   "source": [
    "def NBprior(labels,i):\n",
    "    ind = np.array(range(len(labels)))\n",
    "    seq = ind[labels == i]\n",
    "    return seq"
   ]
  },
  {
   "cell_type": "code",
   "execution_count": 7,
   "metadata": {
    "collapsed": true
   },
   "outputs": [],
   "source": [
    "def NBtrain(data,labels):\n",
    "    if data.shape[0] == len(labels):\n",
    "        d = data.shape[1]\n",
    "        pi = np.zeros(2)\n",
    "        mu = np.zeros((d,2))\n",
    "        for y in range(2):\n",
    "            traindata = data[NBprior(labels,y)]\n",
    "            l = traindata.shape[0]\n",
    "            unit = np.array([1]*l) \n",
    "            pi[y] = l/len(labels)\n",
    "            mu[:,y] = (1 + np.dot(unit,traindata))/(2 + l)\n",
    "        return pi,mu\n",
    "    else:\n",
    "        raise Exception('invalid input')"
   ]
  },
  {
   "cell_type": "code",
   "execution_count": 8,
   "metadata": {
    "collapsed": true
   },
   "outputs": [],
   "source": [
    "nbtrain = NBtrain(data,labels)\n",
    "pi = nbtrain[0][np.newaxis]\n",
    "mu = nbtrain[1]"
   ]
  },
  {
   "cell_type": "code",
   "execution_count": 9,
   "metadata": {
    "collapsed": true
   },
   "outputs": [],
   "source": [
    "def errorate(pi,mu,testdata,testlabels):\n",
    "    M = np.log(pi)+np.dot(testdata,np.log(mu))+np.dot(1-testdata,np.log(1-mu))\n",
    "    preds = np.argmax(M, axis=1)\n",
    "    if len(preds)==len(testlabels):\n",
    "        return (np.count_nonzero(preds-testlabels)/len(testlabels))\n",
    "    else:\n",
    "        raise Exception('invalid input')"
   ]
  },
  {
   "cell_type": "code",
   "execution_count": 10,
   "metadata": {
    "collapsed": false
   },
   "outputs": [
    {
     "name": "stdout",
     "output_type": "stream",
     "text": [
      "2016-09-27 13:51:42.340757\n",
      "2016-09-27 13:51:43.661820\n"
     ]
    }
   ],
   "source": [
    "import datetime\n",
    "print (datetime.datetime.now())\n",
    "trainpreds = errorate(pi,mu,data,labels)\n",
    "testerror = errorate(pi,mu,testdata,testlabels)\n",
    "print (datetime.datetime.now())"
   ]
  },
  {
   "cell_type": "code",
   "execution_count": 11,
   "metadata": {
    "collapsed": false
   },
   "outputs": [
    {
     "name": "stdout",
     "output_type": "stream",
     "text": [
      "0.05779392338177015\n",
      "0.13138324243926625\n"
     ]
    }
   ],
   "source": [
    "print(trainpreds)\n",
    "print(testerror)"
   ]
  },
  {
   "cell_type": "markdown",
   "metadata": {},
   "source": [
    "# Problem d"
   ]
  },
  {
   "cell_type": "code",
   "execution_count": 45,
   "metadata": {
    "collapsed": false
   },
   "outputs": [],
   "source": [
    "#alpha = np.append(sum(np.log((1-mu[:,1])/(1-mu[:,0])))+np.log(pi.flatten()[1]/pi.flatten()[0]),np.log((mu[:,1]*(1-mu[:,0]))/(mu[:,0]*(1-mu[:,1]))))"
   ]
  },
  {
   "cell_type": "code",
   "execution_count": 12,
   "metadata": {
    "collapsed": true
   },
   "outputs": [],
   "source": [
    "alpha = np.log((mu[:,1]*(1-mu[:,0]))/(mu[:,0]*(1-mu[:,1])))"
   ]
  },
  {
   "cell_type": "code",
   "execution_count": 27,
   "metadata": {
    "collapsed": true
   },
   "outputs": [],
   "source": [
    "f = open('news.vocab')\n",
    "words = [line.rstrip('\\n') for line in open('news.vocab')]"
   ]
  },
  {
   "cell_type": "code",
   "execution_count": 28,
   "metadata": {
    "collapsed": false
   },
   "outputs": [
    {
     "name": "stdout",
     "output_type": "stream",
     "text": [
      "['athos' 'atheism' 'atheists' 'clh' 'teachings' 'revelation' 'testament'\n",
      " 'livesey' 'atheist' 'solntze' 'wpd' 'scriptures' 'theology' 'believers'\n",
      " 'ksand' 'alink' 'benedikt' 'jesus' 'prophet' 'mozumder']\n",
      "['arabs' 'budget' 'firearm' 'palestine' 'optilink' 'handgun' 'sdpa' 'cpr'\n",
      " 'armenia' 'cramer' 'villages' 'sahak' 'melkonian' 'ohanus' 'appressian'\n",
      " 'argic' 'serdar' 'israelis' 'occupied' 'firearms']\n"
     ]
    }
   ],
   "source": [
    "smallest = np.array(words)[alpha.argsort()[:20].flatten()]\n",
    "largest = np.array(words)[alpha.argsort()[-20:].flatten()]\n",
    "print(smallest)#from small to large \n",
    "print(largest)#from small to large"
   ]
  }
 ],
 "metadata": {
  "anaconda-cloud": {},
  "kernelspec": {
   "display_name": "Python [conda root]",
   "language": "python",
   "name": "conda-root-py"
  },
  "language_info": {
   "codemirror_mode": {
    "name": "ipython",
    "version": 2
   },
   "file_extension": ".py",
   "mimetype": "text/x-python",
   "name": "python",
   "nbconvert_exporter": "python",
   "pygments_lexer": "ipython2",
   "version": "2.7.13"
  }
 },
 "nbformat": 4,
 "nbformat_minor": 0
}
