{
 "cells": [
  {
   "cell_type": "code",
   "execution_count": 1,
   "metadata": {
    "collapsed": false
   },
   "outputs": [],
   "source": [
    "from scipy.io import loadmat\n",
    "import numpy as np\n",
    "import random\n",
    "news = loadmat('news.mat')"
   ]
  },
  {
   "cell_type": "code",
   "execution_count": 2,
   "metadata": {
    "collapsed": false
   },
   "outputs": [],
   "source": [
    "data = news['data'].toarray()\n",
    "labels = news['labels'].flatten()\n",
    "testdata = news['testdata'].toarray()\n",
    "testlabels = news['testlabels'].flatten()"
   ]
  },
  {
   "cell_type": "code",
   "execution_count": 3,
   "metadata": {
    "collapsed": false
   },
   "outputs": [],
   "source": [
    "def NBprior(labels,i):\n",
    "    ind = np.array(range(len(labels)))\n",
    "    seq = ind[labels == i+1]\n",
    "    return seq"
   ]
  },
  {
   "cell_type": "code",
   "execution_count": 4,
   "metadata": {
    "collapsed": true
   },
   "outputs": [],
   "source": [
    "def NBtrain(data,labels):\n",
    "    if data.shape[0] == len(labels):\n",
    "        d = data.shape[1]\n",
    "        pi = np.zeros(20)\n",
    "        mu = np.zeros((d,20))\n",
    "        for y in range(20):\n",
    "            traindata = data[NBprior(labels,y)]\n",
    "            l = traindata.shape[0]\n",
    "            unit = np.array([1]*l) \n",
    "            pi[y] = l/len(labels)\n",
    "            mu[:,y] = (1 + np.dot(unit,traindata))/(2 + l)\n",
    "        return pi,mu\n",
    "    else:\n",
    "        raise Exception('invalid input')"
   ]
  },
  {
   "cell_type": "code",
   "execution_count": 5,
   "metadata": {
    "collapsed": false
   },
   "outputs": [],
   "source": [
    "def NBpredict(data,labels,testdata):\n",
    "    temp = NBtrain(data,labels)\n",
    "    pi = temp[0][np.newaxis]\n",
    "    mu = temp[1]\n",
    "    M = np.log(pi)+np.dot(testdata,np.log(mu))+np.dot(1-testdata,np.log(1-mu))\n",
    "    return np.argmax(M, axis=1)"
   ]
  },
  {
   "cell_type": "code",
   "execution_count": 6,
   "metadata": {
    "collapsed": true
   },
   "outputs": [],
   "source": [
    "def errorate(preds,testlabels):\n",
    "    if len(preds)==len(testlabels):\n",
    "        return (np.count_nonzero(preds-(testlabels-1))/len(testlabels))\n",
    "    else:\n",
    "        raise Exception('invalid input')"
   ]
  },
  {
   "cell_type": "code",
   "execution_count": 8,
   "metadata": {
    "collapsed": false
   },
   "outputs": [
    {
     "name": "stdout",
     "output_type": "stream",
     "text": [
      "2016-09-28 10:05:45.558337\n",
      "2016-09-28 10:05:55.962965\n"
     ]
    }
   ],
   "source": [
    "import datetime\n",
    "print (datetime.datetime.now())\n",
    "trainpreds = NBpredict(data,labels,data)\n",
    "trainerror = errorate(trainpreds,labels)\n",
    "testpreds = NBpredict(data,labels,testdata)\n",
    "testerror = errorate(testpreds,testlabels)\n",
    "print (datetime.datetime.now())"
   ]
  },
  {
   "cell_type": "code",
   "execution_count": 9,
   "metadata": {
    "collapsed": false
   },
   "outputs": [
    {
     "name": "stdout",
     "output_type": "stream",
     "text": [
      "0.21625698819771053\n",
      "0.3760159893404397\n"
     ]
    }
   ],
   "source": [
    "print(trainerror)\n",
    "print(testerror)"
   ]
  }
 ],
 "metadata": {
  "anaconda-cloud": {},
  "kernelspec": {
   "display_name": "Python [Root]",
   "language": "python",
   "name": "Python [Root]"
  },
  "language_info": {
   "codemirror_mode": {
    "name": "ipython",
    "version": 3
   },
   "file_extension": ".py",
   "mimetype": "text/x-python",
   "name": "python",
   "nbconvert_exporter": "python",
   "pygments_lexer": "ipython3",
   "version": "3.5.2"
  }
 },
 "nbformat": 4,
 "nbformat_minor": 0
}
